{
 "cells": [
  {
   "cell_type": "markdown",
   "metadata": {},
   "source": [
    "# 버블정렬 (Bubble sort)\n",
    "- 인접한 두 수를 비교하며 정렬\n",
    "   : 앞에서부터 시작하여 큰 수를 뒤로 보내 뒤가 가장 큰 값을 가지도록 완성해나가는 방법 \n",
    "   : 또는 뒤에서부터 반복하여 앞의 작은 값부터 정렬을 완성해나가는 방법\n",
    "- 시간복잡도 : O(n²)"
   ]
  },
  {
   "cell_type": "code",
   "execution_count": 16,
   "metadata": {},
   "outputs": [
    {
     "name": "stdout",
     "output_type": "stream",
     "text": [
      "before:  [8, 4, 6, 2, 9, 1, 3, 7, 5]\n",
      "[4, 6, 2, 8, 1, 3, 7, 5, 9]\n",
      "[4, 2, 6, 1, 3, 7, 5, 8, 9]\n",
      "[2, 4, 1, 3, 6, 5, 7, 8, 9]\n",
      "[2, 1, 3, 4, 5, 6, 7, 8, 9]\n",
      "[1, 2, 3, 4, 5, 6, 7, 8, 9]\n",
      "[1, 2, 3, 4, 5, 6, 7, 8, 9]\n",
      "[1, 2, 3, 4, 5, 6, 7, 8, 9]\n",
      "[1, 2, 3, 4, 5, 6, 7, 8, 9]\n",
      "after: [1, 2, 3, 4, 5, 6, 7, 8, 9]\n"
     ]
    }
   ],
   "source": [
    "array = [8,4,6,2,9,1,3,7,5]\n",
    "#array = [9,8,7,6,5,4,3,2,1]\n",
    "\n",
    "def bubble_sort(array):\n",
    "    n = len(array)\n",
    "    for i in range(n - 1):\n",
    "        for j in range(n - i - 1):\n",
    "            if array[j] > array[j + 1]:\n",
    "                array[j], array[j + 1] = array[j + 1], array[j]\n",
    "        print(array)\n",
    "\n",
    "print(\"before: \",array)\n",
    "bubble_sort(array)\n",
    "print(\"after:\", array)"
   ]
  },
  {
   "cell_type": "markdown",
   "metadata": {},
   "source": [
    "# 선택정렬(Selection sort)\n",
    "- 주어진 배열에서 최댓값(최솟값)을 찾아 맨 오른쪽(왼쪽)값과 교체\n",
    "- 최댓값을 맨 오른쪽으로 보낸다는 점에서 버블정렬과 비슷하지만, 이웃한 두 값을 정렬하는 과정이 없기 때문에 대체로 버블정렬보다 빠름\n",
    "- 시간복잡도 : O(n^2)"
   ]
  },
  {
   "cell_type": "code",
   "execution_count": 17,
   "metadata": {},
   "outputs": [
    {
     "name": "stdout",
     "output_type": "stream",
     "text": [
      "before:  [8, 4, 6, 2, 9, 1, 3, 7, 5]\n",
      "[1]\n",
      "[1, 2]\n",
      "[1, 2, 3]\n",
      "[1, 2, 3, 4]\n",
      "[1, 2, 3, 4, 5]\n",
      "[1, 2, 3, 4, 5, 6]\n",
      "[1, 2, 3, 4, 5, 6, 7]\n",
      "[1, 2, 3, 4, 5, 6, 7, 8]\n",
      "[1, 2, 3, 4, 5, 6, 7, 8, 9]\n",
      "after: [1, 2, 3, 4, 5, 6, 7, 8, 9]\n"
     ]
    }
   ],
   "source": [
    "array = [8,4,6,2,9,1,3,7,5]\n",
    "\n",
    "def selection_sort(array):\n",
    "\tn = len(array)\n",
    "\tfor i in range(n):\n",
    "\t\tmin_index = i\n",
    "\t\tfor j in range(i + 1, n):\n",
    "\t\t\tif array[j] < array[min_index]:\n",
    "\t\t\t\tmin_index = j\n",
    "\t\tarray[i], array[min_index] =  array[min_index], array[i]\n",
    "\t\tprint(array[:i+1])\n",
    "\n",
    "print(\"before: \",array)\n",
    "selection_sort(array)\n",
    "print(\"after:\", array)"
   ]
  },
  {
   "cell_type": "markdown",
   "metadata": {},
   "source": [
    "# 삽입정렬(Insert sort)\n",
    "- 배열의 각각의 원소들을 앞에서부터 차례대로 이미 정렬된 부분 배열과 비교하여 자신보다 큰 값과 작은 값 사이에 적당한 위치를 찾아 삽입하여 정렬\n",
    "- 시간복잡도 : O(n^2)"
   ]
  },
  {
   "cell_type": "code",
   "execution_count": 18,
   "metadata": {},
   "outputs": [
    {
     "name": "stdout",
     "output_type": "stream",
     "text": [
      "before:  [8, 4, 6, 2, 9, 1, 3, 7, 5]\n",
      "[4, 8]\n",
      "[4, 6, 8]\n",
      "[2, 4, 6, 8]\n",
      "[2, 4, 6, 8, 9]\n",
      "[1, 2, 4, 6, 8, 9]\n",
      "[1, 2, 3, 4, 6, 8, 9]\n",
      "[1, 2, 3, 4, 6, 7, 8, 9]\n",
      "[1, 2, 3, 4, 5, 6, 7, 8, 9]\n",
      "after: [1, 2, 3, 4, 5, 6, 7, 8, 9]\n"
     ]
    }
   ],
   "source": [
    "array = [8,4,6,2,9,1,3,7,5]\n",
    "\n",
    "def insertion_sort(array):\n",
    "\tn = len(array)\n",
    "\tfor i in range(1, n):\n",
    "\t\tfor j in range(i, 0, - 1):\n",
    "\t\t\tif array[j - 1] > array[j]:\n",
    "\t\t\t\tarray[j - 1], array[j] = array[j], array[j - 1]\n",
    "\t\tprint(array[:i+1])\n",
    "\n",
    "print(\"before: \",array)\n",
    "insertion_sort(array)\n",
    "print(\"after:\", array)\n"
   ]
  },
  {
   "cell_type": "markdown",
   "metadata": {},
   "source": [
    "# 병합정렬(Merge sort)\n",
    "- 분할 정복과 재귀를 이용\n",
    "- 시간복잡도 : O(n log n)\n",
    "- 리스트의 길이가 0 또는 1이면 이미 정렬된 것으로 보고 그렇지 않으면 리스트를 절반으로 나눠 두 리스트로 분할\n",
    "- 각 부분 리스트를 재귀적으로 다시 위의 과정을 반복하여 정렬하고 정렬된 두 부분 리스트를 합쳐 다시 정렬된 리스트로 병합"
   ]
  },
  {
   "cell_type": "code",
   "execution_count": 19,
   "metadata": {},
   "outputs": [
    {
     "name": "stdout",
     "output_type": "stream",
     "text": [
      "before:  [8, 4, 6, 2, 9, 1, 3, 7, 5]\n",
      "[4, 8]\n",
      "[2, 6]\n",
      "[2, 4, 6, 8]\n",
      "[1, 9]\n",
      "[5, 7]\n",
      "[3, 5, 7]\n",
      "[1, 3, 5, 7, 9]\n",
      "[1, 2, 3, 4, 5, 6, 7, 8, 9]\n",
      "after: [1, 2, 3, 4, 5, 6, 7, 8, 9]\n"
     ]
    }
   ],
   "source": [
    "array = [8,4,6,2,9,1,3,7,5]\n",
    "\n",
    "def merge_sort(array):\n",
    "\tif len(array) < 2:\n",
    "\t\treturn array\n",
    "\tmid = len(array) // 2\n",
    "\tlow_arr = merge_sort(array[:mid])\n",
    "\thigh_arr = merge_sort(array[mid:])\n",
    "\n",
    "\tmerged_arr = []\n",
    "\tl = h = 0\n",
    "\twhile l < len(low_arr) and h < len(high_arr):\n",
    "\t\tif low_arr[l] < high_arr[h]:\n",
    "\t\t\tmerged_arr.append(low_arr[l])\n",
    "\t\t\tl += 1\n",
    "\t\telse:\n",
    "\t\t\tmerged_arr.append(high_arr[h])\n",
    "\t\t\th += 1\n",
    "\tmerged_arr += low_arr[l:]\n",
    "\tmerged_arr += high_arr[h:]\n",
    "\tprint(merged_arr)\n",
    "\treturn merged_arr\n",
    "\n",
    "print(\"before: \",array)\n",
    "array = merge_sort(array)\n",
    "print(\"after:\", array)"
   ]
  },
  {
   "cell_type": "markdown",
   "metadata": {},
   "source": [
    "# 퀵정렬(Quick sort)\n",
    "- 추가적인 메모리가 공간이 필요 없음\n",
    "- 전체에서  기준(pivot)이 되는 원소를 하나 정하고 기준을 중심으로 기준 왼쪽으로는 기준 보다 작은 값이 오게 정렬, \n",
    "  기준 오른쪽으로는 값이 큰 원소들이 오게 배치\n",
    "- 기준을 중심으로 나누어진 왼쪽, 오른쪽 집단에서 각각 다시 기준이 되는 원소를 정해 위 과정을 반복\n"
   ]
  },
  {
   "cell_type": "code",
   "execution_count": 20,
   "metadata": {},
   "outputs": [
    {
     "name": "stdout",
     "output_type": "stream",
     "text": [
      "before:  [8, 4, 6, 2, 5, 1, 3, 7, 9]\n",
      "[4, 2, 1, 3] [5] [8, 6, 7, 9]\n",
      "[] [1] [4, 2, 3]\n",
      "[] [2] [4, 3]\n",
      "[] [3] [4]\n",
      "[6] [7] [8, 9]\n",
      "[8] [9] []\n",
      "after: [1, 2, 3, 4, 5, 6, 7, 8, 9]\n"
     ]
    }
   ],
   "source": [
    "array = [8,4,6,2,5,1,3,7,9]\n",
    "\n",
    "def quick_sort(array):\n",
    "\tif len(array) <= 1:\n",
    "\t\treturn array\n",
    "\tpivot = len(array) // 2\n",
    "\tfront_arr, pivot_arr, back_arr = [], [], []\n",
    "\tfor value in array:\n",
    "\t\tif value < array[pivot]:\n",
    "\t\t\tfront_arr.append(value)\n",
    "\t\telif value > array[pivot]:\n",
    "\t\t\tback_arr.append(value)\n",
    "\t\telse:\n",
    "\t\t\tpivot_arr.append(value)\n",
    "\tprint(front_arr, pivot_arr, back_arr)\n",
    "\treturn quick_sort(front_arr) + quick_sort(pivot_arr) + quick_sort(back_arr)\n",
    "\n",
    "print(\"before: \",array)\n",
    "array = quick_sort(array)\n",
    "print(\"after:\", array)"
   ]
  }
 ],
 "metadata": {
  "interpreter": {
   "hash": "aee8b7b246df8f9039afb4144a1f6fd8d2ca17a180786b69acc140d282b71a49"
  },
  "kernelspec": {
   "display_name": "Python 3.9.6 64-bit",
   "language": "python",
   "name": "python3"
  },
  "language_info": {
   "codemirror_mode": {
    "name": "ipython",
    "version": 3
   },
   "file_extension": ".py",
   "mimetype": "text/x-python",
   "name": "python",
   "nbconvert_exporter": "python",
   "pygments_lexer": "ipython3",
   "version": "3.9.6"
  },
  "orig_nbformat": 4
 },
 "nbformat": 4,
 "nbformat_minor": 2
}
