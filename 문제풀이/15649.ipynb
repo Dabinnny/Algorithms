{
 "cells": [
  {
   "cell_type": "markdown",
   "metadata": {},
   "source": [
    "# [15649] N과 M (1) - 백트래킹\n",
    "\n",
    "자연수 N과 M이 주어졌을 때, 아래 조건을 만족하는 길이가 M인 수열을 모두 구하는 프로그램을 작성하시오.  \n",
    "\n",
    "- 1부터 N까지 자연수 중에서 중복 없이 M개를 고른 수열  \n",
    "\n",
    "- 입력 : 첫째 줄에 자연수 N과 M이 주어진다. (1 ≤ M ≤ N ≤ 8)  \n",
    "  ex ) 4 2  \n",
    "\n",
    "\n",
    "- 출력 : 한 줄에 하나씩 문제의 조건을 만족하는 수열을 출력한다. 중복되는 수열을 여러 번 출력하면 안되며, 각 수열은 공백으로 구분해서 출력해야 한다. 수열은 사전 순으로 증가하는 순서로 출력해야 한다.    \n",
    "ex ) 1 2  \n",
    "     1 3  \n",
    "     1 4  \n",
    "     2 1  \n",
    "     2 3  \n",
    "     2 4  \n",
    "     3 1  \n",
    "     3 2  \n",
    "     3 4  \n",
    "     4 1   \n",
    "     4 2  \n",
    "     4 3"
   ]
  },
  {
   "cell_type": "code",
   "execution_count": 6,
   "metadata": {},
   "outputs": [
    {
     "name": "stdout",
     "output_type": "stream",
     "text": [
      "1 2\n",
      "1 3\n",
      "1 4\n",
      "2 1\n",
      "2 3\n",
      "2 4\n",
      "3 1\n",
      "3 2\n",
      "3 4\n",
      "4 1\n",
      "4 2\n",
      "4 3\n"
     ]
    }
   ],
   "source": [
    "def DFS():\n",
    "    if len(s) == M:\n",
    "        print(*s)\n",
    "        return\n",
    "\n",
    "    for i in range(1, N+1):\n",
    "        if visited[i]:  # 이미 방문했으면 건너뜀\n",
    "            continue\n",
    "\n",
    "        # 방문 안했으면 방문체크 후, 출력 리스트에 넣음\n",
    "        visited[i] = True\n",
    "        s.append(i)\n",
    "        DFS()  # 함수 다시 호출\n",
    "        s.pop()  # 원상복귀 과정 필요\n",
    "        visited[i] = False\n",
    "\n",
    "\n",
    "        \n",
    "N, M = map(int, input().split())  # N:주어진 수, M:수열의 길이\n",
    "s = []  # 출력 수열 넣을 리스트 (stack)\n",
    "visited = [False] * (N+1)  # 방문체크 할 리스트\n",
    "DFS()"
   ]
  }
 ],
 "metadata": {
  "interpreter": {
   "hash": "aee8b7b246df8f9039afb4144a1f6fd8d2ca17a180786b69acc140d282b71a49"
  },
  "kernelspec": {
   "display_name": "Python 3.9.6 64-bit",
   "language": "python",
   "name": "python3"
  },
  "language_info": {
   "codemirror_mode": {
    "name": "ipython",
    "version": 3
   },
   "file_extension": ".py",
   "mimetype": "text/x-python",
   "name": "python",
   "nbconvert_exporter": "python",
   "pygments_lexer": "ipython3",
   "version": "3.9.6"
  },
  "orig_nbformat": 4
 },
 "nbformat": 4,
 "nbformat_minor": 2
}
