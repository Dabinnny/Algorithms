{
 "cells": [
  {
   "cell_type": "markdown",
   "metadata": {},
   "source": [
    "# [10989] 수정렬하기 3 - 정렬\n",
    "N개의 수가 주어졌을 때, 이를 오름차순으로 정렬하는 프로그램을 작성하시오.\n",
    "\n",
    "- 입력 : 첫째 줄에 수의 개수 N(1 ≤ N ≤ 10,000,000)이 주어진다. 둘째 줄부터 N개의 줄에는 수가 주어진다. 이 수는 10,000보다 작거나 같은 자연수이다.  \n",
    "\n",
    "     ex )   \n",
    "     10  \n",
    "               5  \n",
    "               2  \n",
    "               3  \n",
    "               1  \n",
    "               4  \n",
    "               2  \n",
    "               3  \n",
    "               5  \n",
    "               1  \n",
    "               7\n",
    "\n",
    "- 출력 : 첫째 줄부터 N개의 줄에 오름차순으로 정렬한 결과를 한 줄에 하나씩 출력한다.  \n",
    "\n",
    "     ex )   \n",
    "     1  \n",
    "          1  \n",
    "          2  \n",
    "          2  \n",
    "          3  \n",
    "          3  \n",
    "          4  \n",
    "          5  \n",
    "          5  \n",
    "          7"
   ]
  },
  {
   "cell_type": "code",
   "execution_count": null,
   "metadata": {},
   "outputs": [],
   "source": [
    "import sys\n",
    "\n",
    "n = int(sys.stdin.readline())\n",
    "lists = [0] * 10001\n",
    "\n",
    "for i in range(n):\n",
    "    lists[int(sys.stdin.readline())] += 1\t\n",
    "    # 0으로 된 리스트의 인덱스를 입력 받고 해당 숫자가 존재하면 1을 더하는 방식. \n",
    "    #2이면 두 번 출력하도록 아래에서 진행\n",
    "    \n",
    "for i in range(10001):\n",
    "    if lists[i] != 0:\t# 우선 0이면 해당 숫자가 없는 것 이므로\n",
    "        for j in range(lists[i]):\t# 있으면 해당 숫자만큼\n",
    "            print(i)\t# 출력"
   ]
  }
 ],
 "metadata": {
  "interpreter": {
   "hash": "aee8b7b246df8f9039afb4144a1f6fd8d2ca17a180786b69acc140d282b71a49"
  },
  "kernelspec": {
   "display_name": "Python 3.9.6 64-bit",
   "language": "python",
   "name": "python3"
  },
  "language_info": {
   "codemirror_mode": {
    "name": "ipython",
    "version": 3
   },
   "file_extension": ".py",
   "mimetype": "text/x-python",
   "name": "python",
   "nbconvert_exporter": "python",
   "pygments_lexer": "ipython3",
   "version": "3.9.6"
  },
  "orig_nbformat": 4
 },
 "nbformat": 4,
 "nbformat_minor": 2
}
