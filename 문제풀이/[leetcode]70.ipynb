{
 "cells": [
  {
   "cell_type": "markdown",
   "metadata": {},
   "source": [
    "# Climbing Stairs  \n",
    "- You are climbing a staircase. It takes n steps to reach the top.  \n",
    "Each time you can either climb 1 or 2 steps. In how many distinct ways can you climb to the top?  \n",
    "\n",
    "1. Example 1  \n",
    "Input: n = 2  \n",
    "Output: 2  \n",
    "Explanation: There are two ways to climb to the top.  \n",
    "(1) 1 step + 1 step  \n",
    "(2) 2 steps \n",
    "\n",
    "</br>\n",
    "\n",
    "2. Example 2  \n",
    "Input: n = 3  \n",
    "Output: 3  \n",
    "Explanation: There are three ways to climb to the top.  \n",
    "(1) 1 step + 1 step + 1 step  \n",
    "(2) 1 step + 2 steps  \n",
    "(3) 2 steps + 1 step"
   ]
  },
  {
   "cell_type": "code",
   "execution_count": null,
   "metadata": {},
   "outputs": [],
   "source": [
    "class climb:\n",
    "    def stairs(self, n):\n",
    "        dp=[1 for i in range(n+1)]\n",
    "        \n",
    "        for i in range(2,n+1):\n",
    "            dp[i]=dp[i-1]+dp[i-2]\n",
    "            \n",
    "        return dp[n]\n",
    "\n",
    "#n번째 계단에 도착을 하려면 이전 시점에 n-1 or n-2번째 계단에 위치\n",
    "# 즉 f(n) = f(n-1)+f(n-2) DP 사용"
   ]
  }
 ],
 "metadata": {
  "interpreter": {
   "hash": "aee8b7b246df8f9039afb4144a1f6fd8d2ca17a180786b69acc140d282b71a49"
  },
  "kernelspec": {
   "display_name": "Python 3.9.6 64-bit",
   "language": "python",
   "name": "python3"
  },
  "language_info": {
   "name": "python",
   "version": "3.9.6"
  },
  "orig_nbformat": 4
 },
 "nbformat": 4,
 "nbformat_minor": 2
}
