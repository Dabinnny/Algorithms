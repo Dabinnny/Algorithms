{
 "cells": [
  {
   "cell_type": "markdown",
   "metadata": {},
   "source": [
    "# [15829] Hashing \n",
    "- 입력 : 첫 줄에는 문자열의 길이 L이 들어온다. 둘째 줄에는 영문 소문자로만 이루어진 문자열이 들어온다.\n",
    "입력으로 주어지는 문자열은 모두 알파벳 소문자로만 구성되어 있다.  \n",
    "ex ) 5\n",
    "- 출력 : 문제에서 주어진 해시함수와 입력으로 주어진 문자열을 사용해 계산한 해시 값을 정수로 출력한다.  \n",
    "ex ) abcde\n"
   ]
  },
  {
   "cell_type": "code",
   "execution_count": 4,
   "metadata": {},
   "outputs": [
    {
     "name": "stdout",
     "output_type": "stream",
     "text": [
      "4739715\n"
     ]
    }
   ],
   "source": [
    "L = int(input())\n",
    "string = input()\n",
    "answer = 0\n",
    "\n",
    "for i in range(L):\n",
    "    answer += (ord(string[i])-96) * (31 ** i) #아스키 코드 값을 돌려주는 ord함수\n",
    "print(answer % 1234567891)"
   ]
  }
 ],
 "metadata": {
  "interpreter": {
   "hash": "aee8b7b246df8f9039afb4144a1f6fd8d2ca17a180786b69acc140d282b71a49"
  },
  "kernelspec": {
   "display_name": "Python 3.9.6 64-bit",
   "language": "python",
   "name": "python3"
  },
  "language_info": {
   "codemirror_mode": {
    "name": "ipython",
    "version": 3
   },
   "file_extension": ".py",
   "mimetype": "text/x-python",
   "name": "python",
   "nbconvert_exporter": "python",
   "pygments_lexer": "ipython3",
   "version": "3.9.6"
  },
  "orig_nbformat": 4
 },
 "nbformat": 4,
 "nbformat_minor": 2
}
