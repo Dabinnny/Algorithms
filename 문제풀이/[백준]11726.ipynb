{
 "cells": [
  {
   "cell_type": "markdown",
   "metadata": {},
   "source": [
    "2×n 크기의 직사각형을 1×2, 2×1 타일로 채우는 방법의 수를 구하는 프로그램을 작성하시오.\n",
    "아래 그림은 2×5 크기의 직사각형을 채운 한 가지 방법의 예이다.  \n",
    "\n",
    "- 입력 : 첫째 줄에 n이 주어진다. (1 ≤ n ≤ 1,000)  \n",
    "    ex ) 2\n",
    "\n",
    "- 출력 : 첫째 줄에 2×n 크기의 직사각형을 채우는 방법의 수를 10,007로 나눈 나머지를 출력한다.  \n",
    "    ex ) 2"
   ]
  },
  {
   "cell_type": "code",
   "execution_count": 5,
   "metadata": {},
   "outputs": [
    {
     "name": "stdout",
     "output_type": "stream",
     "text": [
      "55\n"
     ]
    }
   ],
   "source": [
    "dp = [0]*1001  \n",
    "\n",
    "dp[1] = 1      \n",
    "dp[2] = 2  \n",
    "\n",
    "n = int(input())\n",
    "\n",
    "for index in range(3, 1001):\n",
    "  dp[index] = dp[index-1]+dp[index-2]\n",
    "\n",
    "print(dp[n]%10007)"
   ]
  }
 ],
 "metadata": {
  "interpreter": {
   "hash": "aee8b7b246df8f9039afb4144a1f6fd8d2ca17a180786b69acc140d282b71a49"
  },
  "kernelspec": {
   "display_name": "Python 3.9.6 64-bit",
   "language": "python",
   "name": "python3"
  },
  "language_info": {
   "codemirror_mode": {
    "name": "ipython",
    "version": 3
   },
   "file_extension": ".py",
   "mimetype": "text/x-python",
   "name": "python",
   "nbconvert_exporter": "python",
   "pygments_lexer": "ipython3",
   "version": "3.9.6"
  },
  "orig_nbformat": 4
 },
 "nbformat": 4,
 "nbformat_minor": 2
}
