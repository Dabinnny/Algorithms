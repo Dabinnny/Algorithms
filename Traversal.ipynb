{
 "cells": [
  {
   "cell_type": "markdown",
   "metadata": {},
   "source": [
    "# 순회\n",
    "1. 깊이 우선 순회 방법(Depth First Traversal, DFS) \n",
    "- 전위 순회(Pre-order Traversal)\n",
    "- 정위 순회(In-order Traversal)\n",
    "- 후위 순회(Post-order Traversal)\n",
    "\n",
    "2. 너비 우선 순회 방법(Breadth First Traversal, BFS)\n",
    "- 레벨 순회(Level-order Traversal)"
   ]
  },
  {
   "cell_type": "code",
   "execution_count": 1,
   "metadata": {},
   "outputs": [
    {
     "name": "stdout",
     "output_type": "stream",
     "text": [
      "A -> B -> D -> E -> C -> F -> G -> "
     ]
    }
   ],
   "source": [
    "class Node:\n",
    "    def __init__(self, data):\n",
    "        self.data = data\n",
    "        self.left = None # 여기에 (좌)자식 들어감\n",
    "        self.right = None # (우)자식\n",
    "\n",
    "#트리의 초기화\n",
    "def init_tree():\n",
    "    global root #전역변수 root\n",
    "    new_node = Node(\"A\") #Node 클래스에 init data에 A를 넣음\n",
    "    root = new_node #뿌리에 A클래스 객체를 넣어줌\n",
    "    new_node = Node(\"B\") #위에 new_node 재활용하여 B객체 만듬\n",
    "    root.left = new_node #root의 init변수중 left에 B객체 넣음\n",
    "    new_node = Node(\"C\")\n",
    "    root.right = new_node #오른쪽 자식은 C\n",
    "    new_node_1 = Node('D')\n",
    "    new_node_2 = Node('E') #새 변수 2개에 D와 E 받음\n",
    "\n",
    "    node = root.left #node라는 변수에 A의 (좌)자식인 B객체를 넣음\n",
    "    node.left = new_node_1 #B의 (좌)자식은 D객체\n",
    "    node.right = new_node_2\n",
    "\n",
    "    new_node_1 = Node('F')\n",
    "    new_node_2 = Node('G')\n",
    "    node = root.right  #위에 3개 변수 재활용\n",
    "    node.left = new_node_1\n",
    "    node.right = new_node_2\n",
    "\n",
    "#전위 순회 알고리즘(A- B- D -E - C...)\n",
    "def preorder_traverse(node):\n",
    "    if node == None: return   #if타면, node 끝이면 return으로 재귀 끝냄  #if 안탈경우는 걍 go\n",
    "    print(node.data, end = ' -> ') #자기 node 찍어주고 '->'\n",
    "    preorder_traverse(node.left) #left 자식을 재귀에 넣음\n",
    "    preorder_traverse(node.right) \n",
    "    \n",
    "    #중위,후위는 아래 세개 부분 순서만 바뀌면 됨\n",
    "\n",
    "init_tree() \n",
    "preorder_traverse(root) #전역변수 root에 A객체 들가있음\n",
    "#A -> B -> D -> E -> C -> F -> G \n"
   ]
  },
  {
   "cell_type": "code",
   "execution_count": 2,
   "metadata": {},
   "outputs": [
    {
     "name": "stdout",
     "output_type": "stream",
     "text": [
      "[2, 5, 7, 6]\n",
      "[2, 5, 7, 6]\n"
     ]
    }
   ],
   "source": [
    "def dfs_recur(start_node, dfs_graph, dfs_list=[]):\n",
    "    dfs_list.append(start_node)       # 리스트에 인접한 노드를 덧붙이는 형태, 탐색한 노드들을 저장    \n",
    "    for i in dfs_graph[start_node]:   # 노드의 인접한 노드를 기준으로 반복 \n",
    "        if not i in dfs_list:         # i가 탐색한 노드가 아니라면 탐색\n",
    "            dfs_list = dfs_recur(i, dfs_graph, dfs_list)\n",
    "            \n",
    "    return dfs_list\n",
    "\n",
    "\n",
    "def dfs_stack(start_node):\n",
    "    dfs_list = []                       # 방문한 정점 기록 리스트\n",
    "    stack_list = [start_node]\n",
    "    \n",
    "    while stack_list:                   # stack에 남은것이 없을때까지 반복\n",
    "        node = stack_list.pop()         # node : 현재 방문하고 있는 정점\n",
    "        if node not in dfs_list :       # 노드를 탐색하지 않았으면 dfs_list에 추가하고 탐색\n",
    "            dfs_list.append(node)       # 해당 node의 자식 node를 stack에 추가\n",
    "            for i in dfs_graph[node]:\n",
    "                stack_list.append(i)    # stack에는 탐색해야할 노드들을 추가\n",
    "    return dfs_list \n",
    "\n",
    "\n",
    "def bfs_queue(start_node, bfs_graph):\n",
    "    bfs_list = [start_node]         # 방문한 노드 리스트\n",
    "    queue = [start_node]            # 방문 처리된 노드는 큐에 삽입\n",
    "    while queue:                    # 큐에 남은것이 없을때까지 반복\n",
    "        node = queue.pop(0)         # node : 현재 방문하고 있는 정점   \n",
    "        for i in bfs_graph[node]:   \n",
    "            if i not in bfs_list:   # 노드를 탐색하지 않았으면 dfs_list에 추가하고 탐색\n",
    "                bfs_list.append(i)  # 해당 node의 연결된 아직 탐색하지 않은 원소를 queue에 추가\n",
    "                queue.append(i)\n",
    "    return bfs_list\n",
    "\n",
    "if __name__ == '__main__':\n",
    "    dfs_graph = {1:[2, 3, 4],\n",
    "                2:[5],\n",
    "                3:[6],\n",
    "                4:[],\n",
    "                5:[7],\n",
    "                6:[5],\n",
    "                7:[6]\n",
    "    }\n",
    "    print(dfs_recur(2, dfs_graph, dfs_list=[]))\n",
    "\n",
    "    bfs_graph = {1:[2, 3, 4],\n",
    "                2:[5],\n",
    "                3:[6],\n",
    "                4:[],\n",
    "                5:[7],\n",
    "                6:[5],\n",
    "                7:[6]\n",
    "    }\n",
    "    print(bfs_queue(2, bfs_graph))"
   ]
  }
 ],
 "metadata": {
  "interpreter": {
   "hash": "aee8b7b246df8f9039afb4144a1f6fd8d2ca17a180786b69acc140d282b71a49"
  },
  "kernelspec": {
   "display_name": "Python 3.9.6 64-bit",
   "language": "python",
   "name": "python3"
  },
  "language_info": {
   "codemirror_mode": {
    "name": "ipython",
    "version": 3
   },
   "file_extension": ".py",
   "mimetype": "text/x-python",
   "name": "python",
   "nbconvert_exporter": "python",
   "pygments_lexer": "ipython3",
   "version": "3.9.6"
  },
  "orig_nbformat": 4
 },
 "nbformat": 4,
 "nbformat_minor": 2
}
