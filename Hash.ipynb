{
 "cells": [
  {
   "cell_type": "markdown",
   "metadata": {},
   "source": [
    "# Hash Table\n",
    "- 키(Key)에 데이터(Value)를 저장하는 데이터 구조\n",
    "- Key를 통해 데이터를 바로 받아올 수 있음 → 속도가 획기적으로 빨라짐\n",
    "- 파이썬 딕셔너리(Dictionary) 타입이 해쉬 테이블의 예 - Key를 가지고 바로 데이터(Value)를 꺼냄\n",
    "- 보통 배열로 미리 Hash Table 사이즈만큼 생성 후 사용(공간과 탐색 시간을 맞바꾸는 기법)\n",
    "- 파이썬에서는 해쉬를 별도로 구현할 필요 없음 - 딕셔너리 타입을 사용하면 되기 때문\n",
    "\n",
    "1)장점\n",
    "- 데이터 저장/읽기 속도가 빠름(검색 속도가 빠름)\n",
    "- 해쉬는 키에 대한 데이터가 있는지(중복) 확인이 쉬움  \n",
    "\n",
    "2)단점\n",
    "- 일반적으로 저장공간이 좀 더 많이 필요함\n",
    "- 여러 키에 해당하는 주소가 동일할 경우, 충동을 해결하기 위한 별도 자료구조가 핊요함"
   ]
  },
  {
   "cell_type": "code",
   "execution_count": 9,
   "metadata": {},
   "outputs": [
    {
     "name": "stdout",
     "output_type": "stream",
     "text": [
      "[0, 1, 2, 3, 4, 5, 6, 7, 8, 9]\n"
     ]
    }
   ],
   "source": [
    "hash_table = list([i for i in range(10)])\n",
    "print(hash_table) # [0, 1, 2, 3, 4, 5, 6, 7, 8, 9]"
   ]
  },
  {
   "cell_type": "markdown",
   "metadata": {},
   "source": [
    "list comprehension\n",
    "[출력표현식 for 요소 in 입력 Sequence [if 조건식]]\n",
    "\n",
    "입력 Sequence는 Iteration이 가능한 데이터 Sequence 혹은 컬렉션  \n",
    "\n",
    "[if 조건식]에서 []는 리스트 괄호가 아니라 옵션이라는 뜻, 즉 조건이 있을 때만 넣으면 된다는 뜻임"
   ]
  },
  {
   "cell_type": "code",
   "execution_count": 10,
   "metadata": {},
   "outputs": [
    {
     "name": "stdout",
     "output_type": "stream",
     "text": [
      "[0, 1, 4, 9, 16, 25, 36, 49, 64, 81]\n",
      "[49, 6, 10]\n"
     ]
    }
   ],
   "source": [
    "# list comprehension 예시\n",
    "# 위 코드의 출력표현식을 i에서 i*i로 바꾼 결과\n",
    "\n",
    "hash_table = list([i*i for i in range(10)])\n",
    "print(hash_table) # [0, 1, 4, 9, 16, 25, 36, 49, 64, 81]\n",
    "\n",
    "# 종류가 다른 데이터에서 정수 리스트만 가져오기\n",
    "dataset = [False, 49, \"seunghye\", 31.43, 6, 10]\n",
    "int_data = [num for num in dataset if type(num)==int]\n",
    "print(int_data) # [49, 6, 10]"
   ]
  },
  {
   "cell_type": "code",
   "execution_count": 11,
   "metadata": {},
   "outputs": [],
   "source": [
    "# 함수로 구현\n",
    "\n",
    "# 1. 배열로 hashTable 생성.\n",
    "hash_table = [0 for i in range(10)]\n",
    "\n",
    "# 2. hashFunc(key) -> hashTableIndex\n",
    "def hash_func(key):\n",
    "    hashValue=ord(key) # 여기서는 ord()가 hashFunc\n",
    "    hashAdress = hashValue%10 # 여기서는 나머지연산이 addressFunc\n",
    "    return hashAdress\n",
    "\n",
    "# 3. 저장기능 , 읽기기능 구현 \n",
    "def save_data(key,value):\n",
    "    idx=hash_func(key)\n",
    "    hash_table[idx]=value\n",
    "def read_data(key):\n",
    "    idx = hash_func(key)\n",
    "    return hash_table[idx]"
   ]
  },
  {
   "cell_type": "code",
   "execution_count": 12,
   "metadata": {},
   "outputs": [
    {
     "name": "stdout",
     "output_type": "stream",
     "text": [
      "[0, '1111', '3333', '5555', '8888', 0, 0, 0]\n",
      "8888\n",
      "[0, '1111', '3333', '5555', 0, 0, 0, 0]\n"
     ]
    }
   ],
   "source": [
    "# 클래스로 구현\n",
    "class HashTable:\n",
    "    def __init__(self, table_size):\n",
    "        self.size = table_size\n",
    "        self.hash_table = [0 for a in range(self.size)]\n",
    "        \n",
    "    def getKey(self, data):\n",
    "        self.key = ord(data[0])\n",
    "        return self.key\n",
    "    \n",
    "    def hashFunction(self, key):\n",
    "        return key % self.size\n",
    "\n",
    "    def getAddress(self, key):\n",
    "        myKey = self.getKey(key)\n",
    "        hash_address = self.hashFunction(myKey)\n",
    "        return hash_address\n",
    "    \n",
    "    def save(self, key, value):\n",
    "        hash_address = self.getAddress(key)\n",
    "        self.hash_table[hash_address] = value\n",
    "        \n",
    "    def read(self, key):\n",
    "        hash_address = self.getAddress(key)\n",
    "        return self.hash_table[hash_address]\n",
    "    \n",
    "    def delete(self, key):\n",
    "        hash_address = self.getAddress(key)\n",
    "        \n",
    "        if self.hash_table[hash_address] != 0:\n",
    "            self.hash_table[hash_address] = 0\n",
    "            return True\n",
    "        else:\n",
    "            return False\n",
    "\n",
    "\n",
    "#Test Code\n",
    "h_table = HashTable(8)\n",
    "h_table.save('a', '1111')\n",
    "h_table.save('b', '3333')\n",
    "h_table.save('c', '5555')\n",
    "h_table.save('d', '8888')\n",
    "print(h_table.hash_table)\n",
    "print(h_table.read('d'))\n",
    "\n",
    "h_table.delete('d')\n",
    "\n",
    "print(h_table.hash_table)"
   ]
  }
 ],
 "metadata": {
  "interpreter": {
   "hash": "aee8b7b246df8f9039afb4144a1f6fd8d2ca17a180786b69acc140d282b71a49"
  },
  "kernelspec": {
   "display_name": "Python 3.9.6 64-bit",
   "language": "python",
   "name": "python3"
  },
  "language_info": {
   "codemirror_mode": {
    "name": "ipython",
    "version": 3
   },
   "file_extension": ".py",
   "mimetype": "text/x-python",
   "name": "python",
   "nbconvert_exporter": "python",
   "pygments_lexer": "ipython3",
   "version": "3.9.6"
  },
  "orig_nbformat": 4
 },
 "nbformat": 4,
 "nbformat_minor": 2
}
